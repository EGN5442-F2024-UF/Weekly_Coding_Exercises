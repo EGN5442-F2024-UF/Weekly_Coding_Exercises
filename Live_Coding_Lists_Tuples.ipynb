{
  "cells": [
    {
      "cell_type": "markdown",
      "id": "yi-APFPrIdwS",
      "metadata": {
        "id": "yi-APFPrIdwS"
      },
      "source": [
        "<font color='blue'> First of all, please “Copy to Drive” to get your own copy for editing. </font>\n",
        "\n",
        "<font color='red'> Run all the cells. For places with \"Complete the codes below\", please replace the \"XXX\" placeholder with your own codes.</font>"
      ]
    },
    {
      "cell_type": "markdown",
      "id": "CmAAHTBIq68O",
      "metadata": {
        "id": "CmAAHTBIq68O"
      },
      "source": [
        "# Data Structures: Lists and Tuples"
      ]
    },
    {
      "cell_type": "markdown",
      "id": "cKaPZ161Je90",
      "metadata": {
        "id": "cKaPZ161Je90"
      },
      "source": [
        "Python's data structures are simple but powerful. Mastering their use is a critical part of becoming a proficient Python programmer.\n",
        "\n",
        "We start with list, tuple (and dictionary soon), which are some of the most frequently used sequence types."
      ]
    },
    {
      "cell_type": "markdown",
      "id": "izSYvHqBsDnB",
      "metadata": {
        "id": "izSYvHqBsDnB"
      },
      "source": [
        "![data structure](images/data_structure.png)\n",
        "\n",
        "* *You can use curly braces to define a set like this: {1, 2, 3}. However, if you leave the curly braces empty like this: {} Python will instead create an empty dictionary. So to create an empty set, use set().\n",
        "* **A dictionary itself is mutable, but each of its individual keys must be immutable."
      ]
    },
    {
      "cell_type": "markdown",
      "id": "8ef515d1",
      "metadata": {
        "id": "8ef515d1"
      },
      "source": [
        "## Lists\n",
        "\n",
        "**How to create a list**\n",
        "* list_name = [item1, item2, ...]\n",
        "\n",
        "**How to get items from a list**\n",
        "* use indexes within **brackets**"
      ]
    },
    {
      "cell_type": "markdown",
      "id": "04088e31",
      "metadata": {
        "id": "04088e31"
      },
      "source": [
        "* A *list* contains a collection of *items*.\n",
        "* To refer to the items in a list, you use an *index* where 0 refers to the first item, 1 refers to the second item, and so on.\n",
        "* You can also use negative values for an index where -1 refers to the last item in the list, -2 refers to the second to last item, and so on.\n",
        "* You can use the *repetition operator* to repeat the items in a list. This can be a good way to set the items in a new list to default values.  "
      ]
    },
    {
      "cell_type": "code",
      "execution_count": null,
      "id": "Q9ZLVCJsreRf",
      "metadata": {
        "id": "Q9ZLVCJsreRf"
      },
      "outputs": [],
      "source": [
        "mylist = [] # an empty list"
      ]
    },
    {
      "cell_type": "code",
      "execution_count": null,
      "id": "4gp0S8y0rrGM",
      "metadata": {
        "id": "4gp0S8y0rrGM"
      },
      "outputs": [],
      "source": [
        "months = [\"January\", \"February\", \"March\", \"April\"]\n",
        "print(months)"
      ]
    },
    {
      "cell_type": "markdown",
      "id": "QNdzse1HN56r",
      "metadata": {
        "id": "QNdzse1HN56r"
      },
      "source": [
        "**Summary Table**: Python Sequence (List, Tuple, String) Operations"
      ]
    },
    {
      "cell_type": "markdown",
      "id": "WdhD9LqvNucx",
      "metadata": {
        "id": "WdhD9LqvNucx"
      },
      "source": [
        "![Python sequence operations](images/sequence_operations.png)"
      ]
    },
    {
      "cell_type": "code",
      "execution_count": null,
      "id": "-qoVe5FLERty",
      "metadata": {
        "id": "-qoVe5FLERty"
      },
      "outputs": [],
      "source": [
        "# indexing\n",
        "months[3]"
      ]
    },
    {
      "cell_type": "code",
      "execution_count": null,
      "id": "-AL1hnaRy7-H",
      "metadata": {
        "id": "-AL1hnaRy7-H"
      },
      "outputs": [],
      "source": [
        "months[0:1] # slicing"
      ]
    },
    {
      "cell_type": "code",
      "execution_count": null,
      "id": "VhrS8ONPy5Fg",
      "metadata": {
        "id": "VhrS8ONPy5Fg"
      },
      "outputs": [],
      "source": [
        "len(months)"
      ]
    },
    {
      "cell_type": "code",
      "execution_count": null,
      "id": "FnR027LrzJuI",
      "metadata": {
        "id": "FnR027LrzJuI"
      },
      "outputs": [],
      "source": [
        "# membership operators: in, not in\n",
        "\"January\" in months"
      ]
    },
    {
      "cell_type": "code",
      "execution_count": null,
      "id": "JkpbPBx9BvIp",
      "metadata": {
        "id": "JkpbPBx9BvIp"
      },
      "outputs": [],
      "source": [
        "# membership operators: in, not in\n",
        "\"J\" not in months"
      ]
    },
    {
      "cell_type": "code",
      "execution_count": null,
      "id": "6f115362",
      "metadata": {
        "id": "6f115362"
      },
      "outputs": [],
      "source": [
        "num = [2, 4, 6, 7]\n",
        "num"
      ]
    },
    {
      "cell_type": "code",
      "execution_count": null,
      "id": "SiNgR-QuD1c6",
      "metadata": {
        "id": "SiNgR-QuD1c6"
      },
      "outputs": [],
      "source": [
        "# indexing\n",
        "num[1]"
      ]
    },
    {
      "cell_type": "code",
      "execution_count": null,
      "id": "740995c7",
      "metadata": {
        "id": "740995c7"
      },
      "outputs": [],
      "source": [
        "# indexing\n",
        "num[-1]"
      ]
    },
    {
      "cell_type": "code",
      "execution_count": null,
      "id": "57a180db",
      "metadata": {
        "id": "57a180db"
      },
      "outputs": [],
      "source": [
        "# repetition\n",
        "num*3"
      ]
    },
    {
      "cell_type": "code",
      "execution_count": null,
      "id": "8693004f",
      "metadata": {
        "id": "8693004f"
      },
      "outputs": [],
      "source": [
        "# length\n",
        "len(num)"
      ]
    },
    {
      "cell_type": "markdown",
      "id": "UtUmS7NtDmbg",
      "metadata": {
        "id": "UtUmS7NtDmbg"
      },
      "source": [
        "### How to concatenate lists"
      ]
    },
    {
      "cell_type": "code",
      "execution_count": null,
      "id": "w7kl0HX0yPPH",
      "metadata": {
        "id": "w7kl0HX0yPPH"
      },
      "outputs": [],
      "source": [
        "# How to concatenate two lists with the + and += operators\n",
        "\n",
        "inventory = [\"staff\", \"robe\"]\n",
        "chest = [\"scroll\", \"pestle\"]\n",
        "combined = inventory + chest        # [\"staff\", \"robe\", \"scroll\", \"pestle\"]\n",
        "print(inventory)                    # [\"staff\", \"robe\"]\n",
        "inventory += chest                  # [\"staff\", \"robe\", \"scroll\", \"pestle\"]\n",
        "print(inventory)                    # [\"staff\", \"robe\", \"scroll\", \"pestle\"]"
      ]
    },
    {
      "cell_type": "markdown",
      "id": "d5evlo0ADew6",
      "metadata": {
        "id": "d5evlo0ADew6"
      },
      "source": [
        "### How to slice a list"
      ]
    },
    {
      "cell_type": "code",
      "execution_count": null,
      "id": "bu-_ZB6Jx2Dd",
      "metadata": {
        "id": "bu-_ZB6Jx2Dd"
      },
      "outputs": [],
      "source": [
        "# The syntax for slicing a list: mylist[start:end:step]\n",
        "\n",
        "# Code that slices with the start and end arguments\n",
        "numbers = [52, 54, 56, 58, 60, 62]\n",
        "numbers[0:2]\t\t# [52, 54]\n",
        "numbers[:2]\t\t# [52, 54]\n",
        "numbers[4:]\t\t# [60, 62]\n",
        "# Code that slices with the step argument\n",
        "\n",
        "numbers[0:4:2]\t# [52, 56]\n",
        "numbers[::-1]\t# [62, 60, 58, 56, 54, 52]"
      ]
    },
    {
      "cell_type": "code",
      "execution_count": null,
      "id": "MAVu3F8DZ7Md",
      "metadata": {
        "id": "MAVu3F8DZ7Md"
      },
      "outputs": [],
      "source": [
        "numbers = [52, 54, 56, 58, 60, 62]\n",
        "numbers[::-1] # same as: numbers[5::-1]"
      ]
    },
    {
      "cell_type": "code",
      "execution_count": null,
      "id": "Ly5IdfLTZ8Nv",
      "metadata": {
        "id": "Ly5IdfLTZ8Nv"
      },
      "outputs": [],
      "source": [
        "numbers[5::-1]"
      ]
    },
    {
      "cell_type": "code",
      "execution_count": null,
      "id": "dn6fgODuZ-nb",
      "metadata": {
        "id": "dn6fgODuZ-nb"
      },
      "outputs": [],
      "source": [
        "numbers = [52, 54, 56, 58, 60, 62]\n",
        "numbers[:2:-1] # same as: numbers[5:2:-1]"
      ]
    },
    {
      "cell_type": "code",
      "execution_count": null,
      "id": "42jqXiOYaB53",
      "metadata": {
        "id": "42jqXiOYaB53"
      },
      "outputs": [],
      "source": [
        "numbers[5:2:-1]"
      ]
    },
    {
      "cell_type": "code",
      "execution_count": null,
      "id": "adXkyfP8aGio",
      "metadata": {
        "id": "adXkyfP8aGio"
      },
      "outputs": [],
      "source": [
        "numbers[:4:-1] # same as: numbers[5:4:-1]"
      ]
    },
    {
      "cell_type": "markdown",
      "id": "IQ4UFQkuDUvZ",
      "metadata": {
        "id": "IQ4UFQkuDUvZ"
      },
      "source": [
        "### Looping item through list"
      ]
    },
    {
      "cell_type": "code",
      "execution_count": null,
      "id": "27v3_0yNDTuz",
      "metadata": {
        "id": "27v3_0yNDTuz"
      },
      "outputs": [],
      "source": [
        "# What happens? You are updating the value for a variable --item-- each iteration\n",
        "## 1st iteration: item = inventory1[0] = \"staff\"\n",
        "## 2nd iteration: item = inventory1[1] = \"hat\"\n",
        "## ......\n",
        "## last iteration: item = inventory1[4] = \"bread\"\n",
        "inventory1 = [\"staff\", \"hat\", \"robe\", \"shoes\", \"bread\"]\n",
        "for item in inventory1:\n",
        "  print(item)"
      ]
    },
    {
      "cell_type": "code",
      "execution_count": null,
      "id": "4ljGdg3wCOah",
      "metadata": {
        "id": "4ljGdg3wCOah"
      },
      "outputs": [],
      "source": [
        "# check again, can you understand it?\n",
        "print(item)"
      ]
    },
    {
      "cell_type": "markdown",
      "id": "ywPnpTz9GJiZ",
      "metadata": {
        "id": "ywPnpTz9GJiZ"
      },
      "source": [
        "Three ways to get a counter value when processing the items in a list:"
      ]
    },
    {
      "cell_type": "code",
      "execution_count": null,
      "id": "Ykfzh-r6GKkK",
      "metadata": {
        "id": "Ykfzh-r6GKkK"
      },
      "outputs": [],
      "source": [
        "inventory = [\"staff\", \"hat\", \"bread\", \"potion\"]\n",
        "\n",
        "# Using a counter variable\n",
        "i = 1\n",
        "for item in inventory:\n",
        "    print(f\"{i}. {item}\")\n",
        "    i += 1"
      ]
    },
    {
      "cell_type": "code",
      "execution_count": null,
      "id": "K1E61Ey1GQbf",
      "metadata": {
        "id": "K1E61Ey1GQbf"
      },
      "outputs": [],
      "source": [
        "# What happens? You are updating i and item each iteration\n",
        "## 1st iteration: i = 0, item = inventory1[i] = \"staff\"\n",
        "## 2nd iteration: i = 1, item = inventory1[i] = \"hat\"\n",
        "## ......\n",
        "## last iteration: i = 3, item = inventory1[i] = \"potion\"\n",
        "\n",
        "# Using the value returned by the range() function\n",
        "for i in range(len(inventory)):\n",
        "    item = inventory[i]\n",
        "    print(f\"{i + 1}. {item}\")"
      ]
    },
    {
      "cell_type": "code",
      "execution_count": null,
      "id": "o2vCDe6ZGhvA",
      "metadata": {
        "id": "o2vCDe6ZGhvA"
      },
      "outputs": [],
      "source": [
        "# Using the value returned by the enumerate() function\n",
        "\n",
        "for i, item in enumerate(inventory, start=1):\n",
        "    print(f\"{i}. {item}\")"
      ]
    },
    {
      "cell_type": "markdown",
      "id": "fhI7s22PF2tD",
      "metadata": {
        "id": "fhI7s22PF2tD"
      },
      "source": [
        "<font color='red'>Complete the codes in the cell below. Please replace the \"XXX\" placeholder with your own codes. </font>"
      ]
    },
    {
      "cell_type": "code",
      "execution_count": null,
      "id": "T3icjr2cFz7a",
      "metadata": {
        "id": "T3icjr2cFz7a"
      },
      "outputs": [],
      "source": [
        "# How to process the items in a list\n",
        "# With a for loop\n",
        "scores = [90, 93, 89, 100]\n",
        "total = 0\n",
        "for score in XXX:\n",
        "  total += score\n",
        "\n",
        "print(XXX)  # Your output should be 372"
      ]
    },
    {
      "cell_type": "code",
      "execution_count": null,
      "id": "ksk9LaAfF9fB",
      "metadata": {
        "id": "ksk9LaAfF9fB"
      },
      "outputs": [],
      "source": [
        "# How to process the items in a list\n",
        "# With a while loop\n",
        "my_scores = [90, 93, 89, 100]\n",
        "my_total = 0\n",
        "i = 0\n",
        "while i < len(my_scores):\n",
        "  my_total += my_scores[i]\n",
        "  i += 1\n",
        "print(my_total)"
      ]
    },
    {
      "cell_type": "markdown",
      "id": "8RCbfWSGE8_Z",
      "metadata": {
        "id": "8RCbfWSGE8_Z"
      },
      "source": [
        "**Exercise**:"
      ]
    },
    {
      "cell_type": "code",
      "execution_count": null,
      "id": "iFhm6yLFFACS",
      "metadata": {
        "id": "iFhm6yLFFACS"
      },
      "outputs": [],
      "source": [
        "def getNumbers():\n",
        "    nums = []     # start with an empty list\n",
        "\n",
        "    # loop to get numbers\n",
        "    xStr = input(\"Enter a number (<Enter> to quit) >> \")\n",
        "    while xStr != \"\":\n",
        "        x = float(xStr)\n",
        "        nums.append(x)   # add this value to the list\n",
        "        xStr = input(\"Enter a number (<Enter> to quit) >> \")\n",
        "    return nums"
      ]
    },
    {
      "cell_type": "code",
      "execution_count": null,
      "id": "eALMzI88FG9T",
      "metadata": {
        "id": "eALMzI88FG9T"
      },
      "outputs": [],
      "source": [
        "# [14.5, 11.3, 100.0, 45.1]\n",
        "mynums = getNumbers()"
      ]
    },
    {
      "cell_type": "code",
      "execution_count": null,
      "id": "Kee9OUXRFKbc",
      "metadata": {
        "id": "Kee9OUXRFKbc"
      },
      "outputs": [],
      "source": [
        "print(mynums)"
      ]
    },
    {
      "cell_type": "code",
      "execution_count": null,
      "id": "2JUaqVatFO6r",
      "metadata": {
        "id": "2JUaqVatFO6r"
      },
      "outputs": [],
      "source": [
        "# Please find max, min, sum of mynums\n",
        "# and print them out\n",
        "maxium = max(mynums)\n",
        "minium = min(mynums)\n",
        "total = sum(mynums)\n",
        "\n",
        "print(\"Max:\", maxium)\n",
        "print(\"Min:\", minium)\n",
        "print(\"Sum:\", total)"
      ]
    },
    {
      "cell_type": "markdown",
      "id": "dyDoCnGAFqgw",
      "metadata": {
        "id": "dyDoCnGAFqgw"
      },
      "source": [
        "<font color='red'>Complete the codes in the cell below. Please replace the \"XXX\" placeholder with your own codes. </font>"
      ]
    },
    {
      "cell_type": "code",
      "execution_count": null,
      "id": "Iw3e2-EgFTmL",
      "metadata": {
        "id": "Iw3e2-EgFTmL"
      },
      "outputs": [],
      "source": [
        "# Please use the \"for loop ---looping item through list\" to get total\n",
        "# then calculate the mean/average of mynums\n",
        "# average = (14.5 + 11.3 +100.0 + 45.1)/len(mynums)\n",
        "# print out the mean/average\n",
        "mynums = [14.5, 11.3, 100.0, 45.1]\n",
        "total = 0\n",
        "for XXX in XXX:\n",
        "  total += num\n",
        "\n",
        "average = total/len(mynums)\n",
        "print(average)"
      ]
    },
    {
      "cell_type": "code",
      "execution_count": null,
      "id": "mDTT2EinFX14",
      "metadata": {
        "id": "mDTT2EinFX14"
      },
      "outputs": [],
      "source": [
        "# Alternatively, use len() function to get the length of the list\n",
        "# then use for loop with range() function\n",
        "total = 0\n",
        "for XXX in range(len(mynums)):\n",
        "  total += mynums[i]\n",
        "\n",
        "average = total/len(mynums)\n",
        "print(average)"
      ]
    },
    {
      "cell_type": "markdown",
      "id": "629b4fd2",
      "metadata": {
        "id": "629b4fd2"
      },
      "source": [
        "### Lists are **mutable**"
      ]
    },
    {
      "cell_type": "markdown",
      "id": "eTqjzt1YrxbR",
      "metadata": {
        "id": "eTqjzt1YrxbR"
      },
      "source": [
        "* One mutable type\n",
        "    - list\n",
        "\n",
        "* Some immutable types\n",
        "    - string\n",
        "    - tuple\n",
        "    - int\n",
        "    - float\n",
        "    - bool"
      ]
    },
    {
      "cell_type": "code",
      "execution_count": null,
      "id": "454073d1",
      "metadata": {
        "id": "454073d1"
      },
      "outputs": [],
      "source": [
        "num = [1,2,3,4,5]\n",
        "num[3] = 9    # Lists are mutable. No error\n",
        "num"
      ]
    },
    {
      "cell_type": "code",
      "execution_count": null,
      "id": "ywSFS9dXDMpN",
      "metadata": {
        "id": "ywSFS9dXDMpN"
      },
      "outputs": [],
      "source": [
        "tupnum = (1,2,3,4,5)\n",
        "tupnum[3] = 9    # Tuples are not mutable, so you get TypeError\n",
        "tupnum"
      ]
    },
    {
      "cell_type": "code",
      "execution_count": null,
      "id": "f92f5f88",
      "metadata": {
        "id": "f92f5f88"
      },
      "outputs": [],
      "source": [
        "str2 = \"Welcome\"\n",
        "str2[5] = 'p'   # Strings are not mutable, so you get TypeError"
      ]
    },
    {
      "cell_type": "markdown",
      "id": "WJLgbL_Ixhft",
      "metadata": {
        "id": "WJLgbL_Ixhft"
      },
      "source": [
        "\n",
        "#### The deepcopy() function of the copy module\n",
        "   - deepcopy(list)"
      ]
    },
    {
      "cell_type": "code",
      "execution_count": null,
      "id": "moegKzDaxg69",
      "metadata": {
        "id": "moegKzDaxg69"
      },
      "outputs": [],
      "source": [
        "# How to make a shallow copy of a list\n",
        "list_one = [1, 2, 3, 4, 5]\n",
        "list_two = list_one\n",
        "list_two[1] = 9\n",
        "print(list_one)\t\t# [1, 9, 3, 4, 5]\n",
        "print(list_two)\t\t# [1, 9, 3, 4, 5]"
      ]
    },
    {
      "cell_type": "code",
      "execution_count": null,
      "id": "ovnhf8gDAb7z",
      "metadata": {
        "id": "ovnhf8gDAb7z"
      },
      "outputs": [],
      "source": [
        "# is and is not operators can check whether two variables are bound to the same object\n",
        "print(list_one is list_two)"
      ]
    },
    {
      "cell_type": "code",
      "execution_count": null,
      "id": "L7WVDAdqxo5t",
      "metadata": {
        "id": "L7WVDAdqxo5t"
      },
      "outputs": [],
      "source": [
        "# How to make a deep copy of a list\n",
        "import copy\n",
        "\n",
        "list_three = [1, 2, 3, 4, 5]\n",
        "list_four = copy.deepcopy(list_one)\n",
        "list_four[1] = 9\n",
        "print(list_three)\t\t# [1, 2, 3, 4, 5]\n",
        "print(list_four)\t\t# [1, 9, 3, 4, 5]"
      ]
    },
    {
      "cell_type": "code",
      "execution_count": null,
      "id": "-xKkO8CNAvKy",
      "metadata": {
        "id": "-xKkO8CNAvKy"
      },
      "outputs": [],
      "source": [
        "# is and is not operators can check whether two variables are bound to the same object\n",
        "print(list_three is list_four)"
      ]
    },
    {
      "cell_type": "code",
      "execution_count": null,
      "id": "CW2MS8kHBZDS",
      "metadata": {
        "id": "CW2MS8kHBZDS"
      },
      "outputs": [],
      "source": [
        "# is and is not operators can check whether two variables are bound to the same object\n",
        "print(list_three is not list_four)"
      ]
    },
    {
      "cell_type": "code",
      "execution_count": null,
      "id": "GlJ3UZWAOrtN",
      "metadata": {
        "id": "GlJ3UZWAOrtN"
      },
      "outputs": [],
      "source": [
        "import copy\n",
        "list_copy= copy.deepcopy(list_one)"
      ]
    },
    {
      "cell_type": "code",
      "execution_count": null,
      "id": "kHy0fIMHObxC",
      "metadata": {
        "id": "kHy0fIMHObxC"
      },
      "outputs": [],
      "source": [
        "from copy import deepcopy\n",
        "list_copy2 = deepcopy(list_one)"
      ]
    },
    {
      "cell_type": "markdown",
      "id": "3JnEddz4vqh9",
      "metadata": {
        "id": "3JnEddz4vqh9"
      },
      "source": [
        "### Some list methods\n",
        "* You can use the list methods to add and remove the items in a list\n",
        "* `append()`, `insert()`, `remove()`, `index()`, `pop()`"
      ]
    },
    {
      "cell_type": "markdown",
      "id": "9qW0VdERvt3F",
      "metadata": {
        "id": "9qW0VdERvt3F"
      },
      "source": [
        "![](images/modifying_list.png)"
      ]
    },
    {
      "cell_type": "code",
      "execution_count": null,
      "id": "IeP_iY1nvxVN",
      "metadata": {
        "id": "IeP_iY1nvxVN"
      },
      "outputs": [],
      "source": [
        "# How to use the append(), insert(), and remove() method\n",
        "stats = [48.0, 30.5, 20.2, 100.0]\n",
        "\n",
        "stats\n",
        "#stats.append(99.5)\n",
        "#print(stats)"
      ]
    },
    {
      "cell_type": "code",
      "execution_count": null,
      "id": "MbfznGCCSZbL",
      "metadata": {
        "id": "MbfznGCCSZbL"
      },
      "outputs": [],
      "source": [
        "newi = 99.5\n",
        "stats.append(newi)\n",
        "stats"
      ]
    },
    {
      "cell_type": "markdown",
      "id": "-D4WzsrLlt32",
      "metadata": {
        "id": "-D4WzsrLlt32"
      },
      "source": [
        "<font color='blue'> `.append()` is commonly used."
      ]
    },
    {
      "cell_type": "code",
      "execution_count": null,
      "id": "f9ZqKd64l2ku",
      "metadata": {
        "id": "f9ZqKd64l2ku"
      },
      "outputs": [],
      "source": [
        "# create an empty list\n",
        "newlist = []\n",
        "\n",
        "# append a new item in the list\n",
        "newitem = input(\"Enter a new item: \") # e.g., \"item1\"\n",
        "newlist.append(newitem)\n",
        "\n",
        "# display the updated list\n",
        "newlist"
      ]
    },
    {
      "cell_type": "code",
      "execution_count": null,
      "id": "Sk_kucBXvzJU",
      "metadata": {
        "id": "Sk_kucBXvzJU"
      },
      "outputs": [],
      "source": [
        "stats.insert(3, 28.1)\n",
        "print(stats)"
      ]
    },
    {
      "cell_type": "code",
      "execution_count": null,
      "id": "W9-JI7Tav1FF",
      "metadata": {
        "id": "W9-JI7Tav1FF"
      },
      "outputs": [],
      "source": [
        "stats.remove(20.2)\n",
        "print(stats)"
      ]
    },
    {
      "cell_type": "markdown",
      "id": "1aYci3Pzv3Mt",
      "metadata": {
        "id": "1aYci3Pzv3Mt"
      },
      "source": [
        "<font color='red'>Complete the codes in the cell below. Please replace the \"XXX\" placeholder with your own codes. </font>"
      ]
    },
    {
      "cell_type": "code",
      "execution_count": null,
      "id": "kR7d0swwv5Kt",
      "metadata": {
        "id": "kR7d0swwv5Kt"
      },
      "outputs": [],
      "source": [
        "my_sales = [99, 123, 89, 105]\n",
        "\n",
        "# Please append \"93\" at the end of this list\n",
        "XXX\n",
        "\n",
        "# Please insert \"110\" after \"99\" in this list (which index value?)\n",
        "XXX\n",
        "\n",
        "# Please remove \"89\"\n",
        "XXX\n",
        "\n",
        "# Finally, please print this list\n",
        "XXX"
      ]
    },
    {
      "cell_type": "markdown",
      "id": "GLOgy9R6Hw94",
      "metadata": {
        "id": "GLOgy9R6Hw94"
      },
      "source": [
        "How to use the count(), reverse(), and sort() methods:"
      ]
    },
    {
      "cell_type": "code",
      "execution_count": null,
      "id": "O-6QlxS9Hye_",
      "metadata": {
        "id": "O-6QlxS9Hye_"
      },
      "outputs": [],
      "source": [
        "numlist = [5, 15, 84, 3, 14, 2, 8, 10, 14, 25]\n",
        "count = numlist.count(14)\n",
        "print(count)"
      ]
    },
    {
      "cell_type": "code",
      "execution_count": null,
      "id": "usVMVHIZHz1a",
      "metadata": {
        "id": "usVMVHIZHz1a"
      },
      "outputs": [],
      "source": [
        "numlist.reverse()\n",
        "print(numlist)"
      ]
    },
    {
      "cell_type": "code",
      "execution_count": null,
      "id": "VDRYFFzEH1dH",
      "metadata": {
        "id": "VDRYFFzEH1dH"
      },
      "outputs": [],
      "source": [
        "numlist.sort()\n",
        "print(numlist)"
      ]
    },
    {
      "cell_type": "code",
      "execution_count": null,
      "id": "bb73OTI0IDH4",
      "metadata": {
        "id": "bb73OTI0IDH4"
      },
      "outputs": [],
      "source": [
        "def median(nums):\n",
        "    nums.sort()                 # sort the list\n",
        "    size = len(nums)\n",
        "    midPos = size // 2\n",
        "    if size % 2 == 0:\n",
        "        med = (nums[midPos] + nums[midPos-1]) / 2.0\n",
        "    else:\n",
        "        med = nums[midPos]\n",
        "    return med"
      ]
    },
    {
      "cell_type": "code",
      "execution_count": null,
      "id": "v_eskaDEIGBJ",
      "metadata": {
        "id": "v_eskaDEIGBJ"
      },
      "outputs": [],
      "source": [
        "mynums = [14.5, 11.3, 100.0, 45.1]\n",
        "med = median(mynums)\n",
        "print(f\"The median of {mynums} is {med}!\")\n",
        "\n",
        "# What if we want the output to be the order of original list?\n",
        "# The median of [14.5, 11.3, 100.0, 45.1 ] is 29.8!\n",
        "# Can you fix this?"
      ]
    },
    {
      "cell_type": "code",
      "execution_count": null,
      "id": "hpe6nkiG7ry1",
      "metadata": {
        "id": "hpe6nkiG7ry1"
      },
      "outputs": [],
      "source": []
    },
    {
      "cell_type": "markdown",
      "id": "AFqKUnpcHAzp",
      "metadata": {
        "id": "AFqKUnpcHAzp"
      },
      "source": [
        "### How to work with a list of lists\n",
        "* You can create a *list of lists* by storing a list in each item of another list.\n",
        "* Since this lets you stor data in two dimensions that you can think of as *rows* and *columns\".\n",
        "* A list of lists is also referred to as a *two-dimensional list*."
      ]
    },
    {
      "cell_type": "markdown",
      "id": "WPkwQ3a2HHgA",
      "metadata": {
        "id": "WPkwQ3a2HHgA"
      },
      "source": [
        "How to define a list of lists with 3 rows and 3 columns:"
      ]
    },
    {
      "cell_type": "code",
      "execution_count": null,
      "id": "USaIjlKcHJWQ",
      "metadata": {
        "id": "USaIjlKcHJWQ"
      },
      "outputs": [],
      "source": [
        "movies = [[\"The Holy Grail\", 1975, 9.99],\n",
        "          [\"Life of Brian\", 1979, 12.30],\n",
        "          [\"The Meaning of Life\", 1983, 7.50]]"
      ]
    },
    {
      "cell_type": "markdown",
      "id": "iV2ayVnqHMQI",
      "metadata": {
        "id": "iV2ayVnqHMQI"
      },
      "source": [
        "How to add to a list of lists:"
      ]
    },
    {
      "cell_type": "code",
      "execution_count": null,
      "id": "YluZkYjfHPBA",
      "metadata": {
        "id": "YluZkYjfHPBA"
      },
      "outputs": [],
      "source": [
        "movies = [[\"The Holy Grail\", 1975, 9.99],\n",
        "          [\"Life of Brain\", 1979, 12.30]]\n",
        "# Create movie list\n",
        "movie = [\"The Meaning of Life\", 1983, 7.5]\n",
        "\n",
        "# Add movie list to movies list\n",
        "movies.append(movie)"
      ]
    },
    {
      "cell_type": "markdown",
      "id": "pbiWo1CLHREJ",
      "metadata": {
        "id": "pbiWo1CLHREJ"
      },
      "source": [
        "How to access the items in the list of movies:"
      ]
    },
    {
      "cell_type": "code",
      "execution_count": null,
      "id": "hTMP2wJBHTA_",
      "metadata": {
        "id": "hTMP2wJBHTA_"
      },
      "outputs": [],
      "source": [
        "movies[0][0]"
      ]
    },
    {
      "cell_type": "markdown",
      "id": "XBH0xpLqHVKh",
      "metadata": {
        "id": "XBH0xpLqHVKh"
      },
      "source": [
        "<font color='red'>Complete the codes in the cell below. Please replace the \"XXX\" placeholder with your own codes. </font>"
      ]
    },
    {
      "cell_type": "code",
      "execution_count": null,
      "id": "sDZd2YdfHXAw",
      "metadata": {
        "id": "sDZd2YdfHXAw"
      },
      "outputs": [],
      "source": [
        "students = [[\"Joel\", 85, 95, 70],\n",
        "            [\"Anne\", 95, 100, 100],\n",
        "            [\"Mike\", 77, 70, 85]]\n",
        "\n",
        "# Please print Anne's 1st grade \"95\" by accessing the items in the list of students\n",
        "XXX"
      ]
    },
    {
      "cell_type": "markdown",
      "id": "8w8uodpDHakw",
      "metadata": {
        "id": "8w8uodpDHakw"
      },
      "source": [
        "How to loop through the rows and columns of a two-dimensional list:"
      ]
    },
    {
      "cell_type": "code",
      "execution_count": null,
      "id": "sqKU1PEkHcSt",
      "metadata": {
        "id": "sqKU1PEkHcSt"
      },
      "outputs": [],
      "source": [
        "for movie in movies:\n",
        "  for item in movie:\n",
        "    print(item, end=\" | \")\n",
        "  print()"
      ]
    },
    {
      "cell_type": "markdown",
      "id": "OPfM_tgsj6_U",
      "metadata": {
        "id": "OPfM_tgsj6_U"
      },
      "source": [
        "## Tuples\n",
        "\n",
        "\n",
        "* A **tuple** looks like a list except that it is enclosed in round parentheses() instead of square brackets \\[ \\].\n",
        "\n",
        "* **Tuples are immutable**. After a tuple has been created, you **can't** add, remove, or set items."
      ]
    },
    {
      "cell_type": "markdown",
      "id": "7WBM92oNkpYa",
      "metadata": {
        "id": "7WBM92oNkpYa"
      },
      "source": [
        "\n",
        "### How to create a tuple\n",
        "* tuple_name = (item1, item2, ...)\n",
        "\n",
        "### How to get items from a tuple\n",
        "* use indexes within **brackets**"
      ]
    },
    {
      "cell_type": "code",
      "execution_count": null,
      "id": "V1U6OD2fkAVK",
      "metadata": {
        "id": "V1U6OD2fkAVK"
      },
      "outputs": [],
      "source": [
        "# code that creates tuples\n",
        "## a tuple of 5 floating-point numbers\n",
        "stats = (48.0, 30.5, 20.2, 100.0, 48.0)"
      ]
    },
    {
      "cell_type": "markdown",
      "id": "9H7vaUN_kL7C",
      "metadata": {
        "id": "9H7vaUN_kL7C"
      },
      "source": [
        "* To access the items in a tuple, you use indexes within brackets, just as you do for the items in a list."
      ]
    },
    {
      "cell_type": "code",
      "execution_count": null,
      "id": "4iFiRYhDkHSk",
      "metadata": {
        "id": "4iFiRYhDkHSk"
      },
      "outputs": [],
      "source": [
        "# using index to access the item in a tuple\n",
        "stats[0]"
      ]
    },
    {
      "cell_type": "code",
      "execution_count": null,
      "id": "HzB18TyskIx4",
      "metadata": {
        "id": "HzB18TyskIx4"
      },
      "outputs": [],
      "source": [
        "stats[-1]"
      ]
    },
    {
      "cell_type": "code",
      "execution_count": null,
      "id": "JeU9k6mskEBL",
      "metadata": {
        "id": "JeU9k6mskEBL"
      },
      "outputs": [],
      "source": [
        "stats[0:3] #slicing"
      ]
    },
    {
      "cell_type": "markdown",
      "id": "8vJdnEm0kUvf",
      "metadata": {
        "id": "8vJdnEm0kUvf"
      },
      "source": [
        "* You can **unpack** the values of a tuple into multiple variables by *using a multiple assignment statement*.\n",
        "* When a tuple of variables is used on the left side of an assignment, the corresponding components of the tuple on the right side are unpacked into the variables on the left side. In fact, this is how Python actually implements all simultaneous assignments."
      ]
    },
    {
      "cell_type": "code",
      "execution_count": null,
      "id": "HMyqoYyLkX3R",
      "metadata": {
        "id": "HMyqoYyLkX3R"
      },
      "outputs": [],
      "source": [
        "# code that unpacks a tuple\n",
        "tuple_values = (1, 2, 3)\n",
        "a, b, c = tuple_values\n",
        "print(a)"
      ]
    },
    {
      "cell_type": "markdown",
      "id": "PAZgAKqrkan7",
      "metadata": {
        "id": "PAZgAKqrkan7"
      },
      "source": [
        "The parentheses are **optional** when defining tuples, and programmers frequently omit them if parentheses don’t clarify the code."
      ]
    },
    {
      "cell_type": "code",
      "execution_count": null,
      "id": "KzTRHRn-kcad",
      "metadata": {
        "id": "KzTRHRn-kcad"
      },
      "outputs": [],
      "source": [
        "# location_a and location_b are the same:\n",
        "location_a = (13.4125, 103.866667)\n",
        "location_b = 13.4125, 103.866667   # parentheses omitted\n",
        "\n",
        "print(location_b)"
      ]
    },
    {
      "cell_type": "code",
      "execution_count": null,
      "id": "Rk5U-1W7keGQ",
      "metadata": {
        "id": "Rk5U-1W7keGQ"
      },
      "outputs": [],
      "source": [
        "location_b"
      ]
    },
    {
      "cell_type": "markdown",
      "id": "0lLGwthzkf8J",
      "metadata": {
        "id": "0lLGwthzkf8J"
      },
      "source": [
        "Because tuples are **immutable**, they are more efficient than lists.\n",
        "\n",
        "As a result, you should use a tuple whenever you know the items won't be changed."
      ]
    },
    {
      "cell_type": "code",
      "execution_count": null,
      "id": "Svi-T9toDrww",
      "metadata": {
        "id": "Svi-T9toDrww"
      },
      "outputs": [],
      "source": [
        "# Tuples are immutable\n",
        "tupnum = (1,2,3,4,5)\n",
        "tupnum[3] = 9    # Tuples are not mutable, so you get TypeError\n",
        "tupnum"
      ]
    }
  ],
  "metadata": {
    "colab": {
      "provenance": [],
      "toc_visible": true
    },
    "kernelspec": {
      "display_name": "Python 3 (ipykernel)",
      "language": "python",
      "name": "python3"
    },
    "language_info": {
      "codemirror_mode": {
        "name": "ipython",
        "version": 3
      },
      "file_extension": ".py",
      "mimetype": "text/x-python",
      "name": "python",
      "nbconvert_exporter": "python",
      "pygments_lexer": "ipython3",
      "version": "3.9.6"
    }
  },
  "nbformat": 4,
  "nbformat_minor": 5
}
