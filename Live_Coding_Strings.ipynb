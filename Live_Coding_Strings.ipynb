{
  "cells": [
    {
      "cell_type": "markdown",
      "metadata": {
        "id": "40DIcQ0XXntO"
      },
      "source": [
        "<font color='blue'> First of all, please “Copy to Drive” to get your own copy for editing. </font>\n",
        "\n",
        "<font color='red'> Run all the cells. For places with \"Complete the codes below\", please replace the \"XXX\" placeholder with your own codes.</font>"
      ]
    },
    {
      "cell_type": "markdown",
      "metadata": {
        "id": "HoThzgCxRaQ-"
      },
      "source": [
        "# How to work with Strings\n"
      ]
    },
    {
      "cell_type": "markdown",
      "metadata": {
        "id": "I-muVL68RXkG"
      },
      "source": [
        "* Text is represented in programs by the *string* data type. **String** is a sequence of **characters**, often treated as a data structure.\n",
        " - String literal - \"some characters\" or 'some characters' (no difference, use a matching set)\n",
        "* Both lists and strings are a type of collection known as a *sequence*\n",
        "\n",
        "      Note: Lists are mutable\n",
        "      Note: Strings are not mutable, strings cannot be changed \"in place\""
      ]
    },
    {
      "cell_type": "markdown",
      "metadata": {
        "id": "qHN0oibwR2ym"
      },
      "source": [
        "## Unicode, indexes, slicing, duplicating, and multiline strings"
      ]
    },
    {
      "cell_type": "markdown",
      "metadata": {
        "id": "DZgfA0aYR74F"
      },
      "source": [
        "**How does a computer represent strings?**\n",
        "\n",
        "With version 3.0 and later, Python uses *Unicode* to store the characters in strings.\n",
        "\n",
        "**Unicode maps each character to an integer(ordinal) value** and provides for most characters in most of the world's languages."
      ]
    },
    {
      "cell_type": "markdown",
      "metadata": {
        "id": "Y5Dh5SCjSBiD"
      },
      "source": [
        "* **Encoding** process\n",
        "   * A character >> a number >> a sequence of numbers (binary) in computer memory\n",
        "   * ASCII (American Standard Code for Information Interchange) is a subset of **Unicode**\n",
        "   * UTF-8: variable-length encoding scheme\n",
        "   * Python strings support the **Unicode** Standard"
      ]
    },
    {
      "cell_type": "code",
      "execution_count": null,
      "metadata": {
        "id": "eze466sVSHIJ"
      },
      "outputs": [],
      "source": [
        "ord(\"a\")"
      ]
    },
    {
      "cell_type": "code",
      "execution_count": null,
      "metadata": {
        "id": "dDfUZfzKSH0p"
      },
      "outputs": [],
      "source": [
        "chr(97)"
      ]
    },
    {
      "cell_type": "markdown",
      "metadata": {
        "id": "Cz8t6K27STFA"
      },
      "source": [
        "**Two built-in functions**:\n",
        "\n",
        "![String](images/string_function1.png)"
      ]
    },
    {
      "cell_type": "code",
      "execution_count": null,
      "metadata": {
        "id": "Y3qAk0rUSMIN"
      },
      "outputs": [],
      "source": [
        "# The ordinal value of a Unicode character\n",
        "print(\"5 =\", ord(\"5\"))     # 5 = 53"
      ]
    },
    {
      "cell_type": "code",
      "execution_count": null,
      "metadata": {
        "id": "cH5yUkoAJTqQ"
      },
      "outputs": [],
      "source": [
        "print(\"A =\", ord(\"A\"))     # A = 65"
      ]
    },
    {
      "cell_type": "code",
      "execution_count": null,
      "metadata": {
        "id": "FO_JDBCYJUSA"
      },
      "outputs": [],
      "source": [
        "print(\"a =\", ord(\"a\"))     # a = 97"
      ]
    },
    {
      "cell_type": "markdown",
      "metadata": {
        "id": "ahnYVpxnZhHQ"
      },
      "source": [
        "**Summary Table**: Python Sequence (String ans List) Operations\n",
        "* Concatenation, repetition, indexing, slicking, len() apply to both list and string\n",
        "\n",
        "![Python sequence operations](images/sequence_operations.png)"
      ]
    },
    {
      "cell_type": "code",
      "execution_count": null,
      "metadata": {
        "id": "RNU-s135ZZbL"
      },
      "outputs": [],
      "source": [
        "mylist = [\"a\", \"b\", \"c\",\"d\"]"
      ]
    },
    {
      "cell_type": "code",
      "execution_count": null,
      "metadata": {
        "id": "BMPNc4q2wUIp"
      },
      "outputs": [],
      "source": [
        "len(mylist)"
      ]
    },
    {
      "cell_type": "code",
      "execution_count": null,
      "metadata": {
        "id": "NJ0dPZaNZpCF"
      },
      "outputs": [],
      "source": [
        "mystring =\"abcd\""
      ]
    },
    {
      "cell_type": "code",
      "execution_count": null,
      "metadata": {
        "id": "4a-_ri5iZ7lO"
      },
      "outputs": [],
      "source": [
        "len(mystring)"
      ]
    },
    {
      "cell_type": "markdown",
      "metadata": {
        "id": "tpwggaTtZ77f"
      },
      "source": [
        "How to access a character in a string\n",
        "* index"
      ]
    },
    {
      "cell_type": "code",
      "execution_count": null,
      "metadata": {
        "id": "9oCZh2x-Z_6p"
      },
      "outputs": [],
      "source": [
        "mylist[0]"
      ]
    },
    {
      "cell_type": "code",
      "execution_count": null,
      "metadata": {
        "id": "GayIMl9Iwfzg"
      },
      "outputs": [],
      "source": [
        "mystring[0]"
      ]
    },
    {
      "cell_type": "code",
      "execution_count": null,
      "metadata": {
        "id": "ZFs__lG7aCq4"
      },
      "outputs": [],
      "source": [
        "mystring[-1]"
      ]
    },
    {
      "cell_type": "markdown",
      "metadata": {
        "id": "jxkKBTcGZ833"
      },
      "source": [
        "How to slice a string\n",
        "* string[start:end:step]"
      ]
    },
    {
      "cell_type": "code",
      "execution_count": null,
      "metadata": {
        "id": "bU-6JsX6wnbe"
      },
      "outputs": [],
      "source": [
        "mylist[0:3]"
      ]
    },
    {
      "cell_type": "code",
      "execution_count": null,
      "metadata": {
        "id": "esU4xZd3aEpA"
      },
      "outputs": [],
      "source": [
        "mystring[0:3]"
      ]
    },
    {
      "cell_type": "code",
      "execution_count": null,
      "metadata": {
        "id": "oxpOrSDGxU7T"
      },
      "outputs": [],
      "source": [
        "mylist[1] = \"e\"   # list is mutable\n",
        "mylist"
      ]
    },
    {
      "cell_type": "code",
      "execution_count": null,
      "metadata": {
        "id": "DygZh_DfxZly"
      },
      "outputs": [],
      "source": [
        "mystring[1] = \"e\"  # string is immutable\n",
        "mystring"
      ]
    },
    {
      "cell_type": "markdown",
      "metadata": {
        "id": "yXWIkDHnVPME"
      },
      "source": [
        "How to use the repetition operator (*)"
      ]
    },
    {
      "cell_type": "code",
      "execution_count": null,
      "metadata": {
        "id": "4WZ-UWPCVP6L"
      },
      "outputs": [],
      "source": [
        "print(\"=\" * 20)             # ====================\n",
        "print(\"A horse! \" * 2)      # \"A horse! A horse!\""
      ]
    },
    {
      "cell_type": "markdown",
      "metadata": {
        "id": "GLfgYs1lVWme"
      },
      "source": [
        "How to use triple quotes to create a multiline string"
      ]
    },
    {
      "cell_type": "code",
      "execution_count": null,
      "metadata": {
        "id": "fvXbG9keVXOC"
      },
      "outputs": [],
      "source": [
        "query = '''SELECT categoryID, name AS categoryName\n",
        "           FROM Category WHERE categoryID = ?'''\n",
        "query"
      ]
    },
    {
      "cell_type": "code",
      "execution_count": null,
      "metadata": {
        "id": "hervW0lbVZ54"
      },
      "outputs": [],
      "source": [
        "query2 = \"\"\"SELECT categoryID, name AS categoryName\n",
        "           FROM Category WHERE categoryID = ?\"\"\"\n",
        "query2"
      ]
    },
    {
      "cell_type": "markdown",
      "metadata": {
        "id": "3rA0SI8OVhI3"
      },
      "source": [
        "* Python uses *Unicode* to store the characters in strings. Unicode maps each character to an integer(*ordinal*) value and provides for most characters in most of the world's languages.\n",
        "* A string is *immutable*, which means that you can't change its characters. If you attempt to do that, Python raises a TypeError.\n",
        "* If you use and index that doesn't exist in the string, Python raises an IndexError that indicates that the index is out of range.\n",
        "* Slicing and duplicating a string works the same as slicing and duplicating a list.\n",
        "* Triple quotes are used for strings that are used within programs, not for display."
      ]
    },
    {
      "cell_type": "markdown",
      "metadata": {
        "id": "ca9LKXMeVh4n"
      },
      "source": [
        "## How to search a string"
      ]
    },
    {
      "cell_type": "markdown",
      "metadata": {
        "id": "fDZ9mEX9cIQt"
      },
      "source": [
        "How to use the **in** keyword to search a string\n",
        "* *term* in *string*"
      ]
    },
    {
      "cell_type": "code",
      "execution_count": null,
      "metadata": {
        "id": "fZWNb4gCcIvS"
      },
      "outputs": [],
      "source": [
        "# Examples\n",
        "spam = \"Congratulations. You've won a million dollars.\"\n",
        "\n",
        "\"million\" in spam"
      ]
    },
    {
      "cell_type": "code",
      "execution_count": null,
      "metadata": {
        "id": "yaP41qhxdgKQ"
      },
      "outputs": [],
      "source": [
        "myemail = \"ali.gator@ufl.edu\"\n",
        "\n",
        "\"@\" in myemail"
      ]
    },
    {
      "cell_type": "code",
      "execution_count": null,
      "metadata": {
        "id": "2bUu-ihLVxUd"
      },
      "outputs": [],
      "source": [
        "# Code that uses an if statement to check a search\n",
        "\n",
        "search_term = input(\"Enter search term: \")\n",
        "if search_term in spam:\n",
        "    print(\"Term found!\")\n",
        "else:\n",
        "    print(\"Not found!\")"
      ]
    },
    {
      "cell_type": "markdown",
      "metadata": {
        "id": "ZqFBofBaVqWf"
      },
      "source": [
        "## How to loop through the characters in a string"
      ]
    },
    {
      "cell_type": "markdown",
      "metadata": {
        "id": "ouU-6WaOaYzd"
      },
      "source": [
        "How to loop through the characters in a string:"
      ]
    },
    {
      "cell_type": "code",
      "execution_count": null,
      "metadata": {
        "id": "HqJnrtAbWCUV"
      },
      "outputs": [],
      "source": [
        "# What happens? You are updating the value for a variable --char-- each iteration\n",
        "## 1st iteration: char = message[0] = \"H\"\n",
        "## 2nd iteration: char = message[1] = \"i\"\n",
        "## ......\n",
        "## last iteration: char = message[2] = \"!\"\n",
        "\n",
        "# Code that prints each character in a string\n",
        "message = \"Hi!\"\n",
        "for char in message:\n",
        "    print(char)"
      ]
    },
    {
      "cell_type": "code",
      "execution_count": null,
      "metadata": {
        "id": "CObpaB9gaJom"
      },
      "outputs": [],
      "source": [
        "# check again, can you understand it?\n",
        "print(char)"
      ]
    },
    {
      "cell_type": "code",
      "execution_count": null,
      "metadata": {
        "id": "qRkFnW7jWPZQ"
      },
      "outputs": [],
      "source": [
        "# Code that prints the ordinal value for each character\n",
        "message = \"0123 ABCD abcd\"\n",
        "for cha in message:\n",
        "    print(ord(cha), end=\" \")\n",
        "\n",
        "# You are updating the value for a variable --cha-- each iteration"
      ]
    },
    {
      "cell_type": "code",
      "execution_count": null,
      "metadata": {
        "id": "xev0EDJsaNda"
      },
      "outputs": [],
      "source": [
        "# check again, can you understand it?\n",
        "print(cha)"
      ]
    },
    {
      "cell_type": "markdown",
      "metadata": {
        "id": "HR0UQglBWgAH"
      },
      "source": [
        "looping through the characters in a string is similar to looping through the items in a list:"
      ]
    },
    {
      "cell_type": "code",
      "execution_count": null,
      "metadata": {
        "id": "sO8o4qtuaf3A"
      },
      "outputs": [],
      "source": [
        "mylist = [\"a\", \"b\", \"c\",\"d\"]\n",
        "\n",
        "for item in mylist:\n",
        "  print(item)"
      ]
    },
    {
      "cell_type": "code",
      "execution_count": null,
      "metadata": {
        "id": "GktiTAvFad_u"
      },
      "outputs": [],
      "source": [
        "for i in range(len(mylist)):\n",
        "  print(mylist[i])"
      ]
    },
    {
      "cell_type": "code",
      "execution_count": null,
      "metadata": {
        "id": "-HHvq40qadhs"
      },
      "outputs": [],
      "source": [
        "mystring =\"abcd\"\n",
        "\n",
        "for ch in mystring:\n",
        "  print(ch)"
      ]
    },
    {
      "cell_type": "markdown",
      "metadata": {
        "id": "0t4LBsWl2WOK"
      },
      "source": [
        "<font color='red'>Complete the codes in the cell below."
      ]
    },
    {
      "cell_type": "code",
      "execution_count": null,
      "metadata": {
        "id": "vwJj6PUFyPxT"
      },
      "outputs": [],
      "source": [
        "# use another for loop with range() function\n",
        "# looping characters in mystring (to get the same output)\n",
        "xxx\n",
        "xxx"
      ]
    },
    {
      "cell_type": "markdown",
      "metadata": {
        "id": "fUj83zNvWzZu"
      },
      "source": [
        "## How to use basic string methods"
      ]
    },
    {
      "cell_type": "markdown",
      "metadata": {
        "id": "KN5v1h3wcPwm"
      },
      "source": [
        "![String](images/basic_string_methods.png)"
      ]
    },
    {
      "cell_type": "code",
      "execution_count": null,
      "metadata": {
        "id": "OqRoSxisW4Pz"
      },
      "outputs": [],
      "source": [
        "s = \"hello, I came here for an argument\"\n",
        "s.title() # copy of s with title case"
      ]
    },
    {
      "cell_type": "code",
      "execution_count": null,
      "metadata": {
        "id": "akvwnWQLW8Ne"
      },
      "outputs": [],
      "source": [
        "s.lower()  # copy of s in all lowercase characters"
      ]
    },
    {
      "cell_type": "code",
      "execution_count": null,
      "metadata": {
        "id": "LXYm605VW-m6"
      },
      "outputs": [],
      "source": [
        "s.upper()  # copy of s with all characters converted to uppercase"
      ]
    },
    {
      "cell_type": "code",
      "execution_count": null,
      "metadata": {
        "id": "3MVChCkZXBSb"
      },
      "outputs": [],
      "source": [
        "# How to check if a string contains all digits\n",
        "entry = \"12345\"\n",
        "entry.isdigit()"
      ]
    },
    {
      "cell_type": "code",
      "execution_count": null,
      "metadata": {
        "id": "1tFCEWfWXE7U"
      },
      "outputs": [],
      "source": [
        "# How to check if a string starts with a substring\n",
        "title = \"The Meaning of Life\"\n",
        "title.startswith(\"The\")"
      ]
    },
    {
      "cell_type": "code",
      "execution_count": null,
      "metadata": {
        "id": "t6_cAdTmdugI"
      },
      "outputs": [],
      "source": [
        "myemail = \"ali.gator@ufl.edu\"\n",
        "myemail.endswith(\".com\")"
      ]
    },
    {
      "cell_type": "code",
      "execution_count": null,
      "metadata": {
        "id": "aTYhCp0eXH_q"
      },
      "outputs": [],
      "source": [
        "# How to strip whitespace from a string\n",
        "ssn = \"   392 55 7722  \"\n",
        "ssn.strip()"
      ]
    },
    {
      "cell_type": "code",
      "execution_count": null,
      "metadata": {
        "id": "tkkVrLxTXLDN"
      },
      "outputs": [],
      "source": [
        "# How to align strings by using justification\n",
        "print(\"Hammer\".ljust(14), \"$9.99\".rjust(10))\n",
        "print(\"Nails\".ljust(14), \"$14.50\".rjust(10))"
      ]
    },
    {
      "cell_type": "markdown",
      "metadata": {
        "id": "g2jDf7d8XSMf"
      },
      "source": [
        "## How to find, remove, and replace parts of a string"
      ]
    },
    {
      "cell_type": "markdown",
      "metadata": {
        "id": "6an1pI3TcT2S"
      },
      "source": [
        "**Four more methods of a string:**\n",
        "\n",
        "![String](images/four_string_methods.png)"
      ]
    },
    {
      "cell_type": "code",
      "execution_count": null,
      "metadata": {
        "id": "fSsWlMkFXWD6"
      },
      "outputs": [],
      "source": [
        "s = \"hello, I came here for an argument\"\n",
        "s.find(',') # find the first position where sub occurs in s"
      ]
    },
    {
      "cell_type": "code",
      "execution_count": null,
      "metadata": {
        "id": "IB7kK6wsXWsU"
      },
      "outputs": [],
      "source": [
        "s.replace(\"I\", \"you\")  # replace all occurrences of oldsub in s with newsub"
      ]
    },
    {
      "cell_type": "code",
      "execution_count": null,
      "metadata": {
        "id": "jYcNrPm3YX4I"
      },
      "outputs": [],
      "source": [
        "email0 = \"joel@murach.com\"\n",
        "# How to remove a substring from the start of a string\n",
        "email0.removeprefix(\"joel\")"
      ]
    },
    {
      "cell_type": "code",
      "execution_count": null,
      "metadata": {
        "id": "GrbSZMZ_b0Yo"
      },
      "outputs": [],
      "source": [
        "def get_full_name():\n",
        "    while True:\n",
        "        name = input(\"Enter full name:       \").strip()\n",
        "        if \" \" in name:\n",
        "            return name\n",
        "        else:\n",
        "            print(\"You must enter your full name.\")"
      ]
    },
    {
      "cell_type": "code",
      "execution_count": null,
      "metadata": {
        "id": "eCzijjN6c-kA"
      },
      "outputs": [],
      "source": [
        "# call get_full_name() function:\n",
        "get_full_name()"
      ]
    },
    {
      "cell_type": "markdown",
      "metadata": {
        "id": "VA2GEb9pX9Qe"
      },
      "source": [
        "<font color='red'>Complete the codes in the cell below."
      ]
    },
    {
      "cell_type": "code",
      "execution_count": null,
      "metadata": {
        "id": "MqhnNB6Wcuwn"
      },
      "outputs": [],
      "source": [
        "## define get_email_address() function\n",
        "## to be valid, the address must contain an @ sign and end with \".com\"\n",
        "XXX\n",
        "\n"
      ]
    },
    {
      "cell_type": "code",
      "execution_count": null,
      "metadata": {
        "id": "o0RkxKWtdOSE"
      },
      "outputs": [],
      "source": [
        "# call get_email_address() function\n"
      ]
    },
    {
      "cell_type": "markdown",
      "metadata": {
        "id": "28KcWqGmglIK"
      },
      "source": [
        "Get a valid phone number:"
      ]
    },
    {
      "cell_type": "code",
      "execution_count": null,
      "metadata": {
        "id": "QVkigtW1d3Cm"
      },
      "outputs": [],
      "source": [
        "phone = \"(555) 333-333\"\n",
        "phone = phone.replace(\" \", \"\")\n",
        "phone"
      ]
    },
    {
      "cell_type": "code",
      "execution_count": null,
      "metadata": {
        "id": "G8ExGNAAeFvh"
      },
      "outputs": [],
      "source": [
        "phone = phone.replace(\"-\", \"\")\n",
        "phone"
      ]
    },
    {
      "cell_type": "code",
      "execution_count": null,
      "metadata": {
        "id": "IUwxcHFsegrO"
      },
      "outputs": [],
      "source": [
        "phone_number = \"(555) 333-333\"\n",
        "for char in \" -().\":\n",
        "  phone_number = phone_number.replace(char, \"\")\n",
        "\n",
        "print(phone_number)"
      ]
    },
    {
      "cell_type": "code",
      "execution_count": null,
      "metadata": {
        "id": "yzD-Tw7xgS_W"
      },
      "outputs": [],
      "source": [
        "phone_number.isdigit()"
      ]
    },
    {
      "cell_type": "code",
      "execution_count": null,
      "metadata": {
        "id": "PDHytM1SgQk4"
      },
      "outputs": [],
      "source": [
        "len(phone_number)"
      ]
    },
    {
      "cell_type": "markdown",
      "metadata": {
        "id": "ZpYCk4HDYENc"
      },
      "source": [
        "<font color='red'>Complete the codes in the cell below."
      ]
    },
    {
      "cell_type": "code",
      "execution_count": null,
      "metadata": {
        "id": "E63zeFkqewbI"
      },
      "outputs": [],
      "source": [
        "## define get_phone_number() function\n",
        "# to be valid: remove all spaces, dashes, parentheses, and periods from the number\n",
        "# then check to make sure the number consists of 10 characters that are digits\n",
        "# return a valid phone number (e.g., 5556667777)\n",
        "def get_phone_number():\n",
        "  XXX\n",
        "\n",
        "\n",
        "  # check to make sure the number consists of 10 characters that are digits\n",
        "\n",
        "  if XXX:\n"
      ]
    },
    {
      "cell_type": "code",
      "execution_count": null,
      "metadata": {
        "id": "fgtKa_yNe05r"
      },
      "outputs": [],
      "source": []
    },
    {
      "cell_type": "markdown",
      "metadata": {
        "id": "H2ShuzhzXmnc"
      },
      "source": [
        "## How to split a string into a list of strings"
      ]
    },
    {
      "cell_type": "markdown",
      "metadata": {
        "id": "RHZslVGuar71"
      },
      "source": [
        "How to split a string into a list of strings:"
      ]
    },
    {
      "cell_type": "markdown",
      "metadata": {
        "id": "ZgzvrTRhXrOY"
      },
      "source": [
        "The **split()** method of a string\n",
        "\n",
        "![String](images/split_method.png)"
      ]
    },
    {
      "cell_type": "markdown",
      "metadata": {
        "id": "9HPvXSvDXuqO"
      },
      "source": [
        "* **split** method: this method splits a string into a list of substrings. By default, it will **split the string wherever a space occurs**.\n",
        "* Split can be used to split a string at places other than spaces **by supplying the character to split** on as a **delimiter**. For example, if we have a string of numbers separated by commas, we could split on the commas:"
      ]
    },
    {
      "cell_type": "code",
      "execution_count": null,
      "metadata": {
        "id": "k7rrkafZa3p0"
      },
      "outputs": [],
      "source": [
        "# How to split a date on a delimiter\n",
        "date = \"11/9/1972\"\n",
        "date = date.split(\"/\")\n",
        "month = int(date[0])     # 11"
      ]
    },
    {
      "cell_type": "code",
      "execution_count": null,
      "metadata": {
        "id": "hF0QR0lZauwi"
      },
      "outputs": [],
      "source": [
        "ystring = \"You only live once\"\n",
        "len(ystring)"
      ]
    },
    {
      "cell_type": "code",
      "execution_count": null,
      "metadata": {
        "id": "vAmwsp-mavOg"
      },
      "outputs": [],
      "source": [
        "ystring.split()"
      ]
    },
    {
      "cell_type": "code",
      "execution_count": null,
      "metadata": {
        "id": "Id4Sum2Sh1hu"
      },
      "outputs": [],
      "source": [
        "ylist = ystring.split()\n",
        "ylist[0][0]"
      ]
    },
    {
      "cell_type": "code",
      "execution_count": null,
      "metadata": {
        "id": "a-jKSgJwisMN"
      },
      "outputs": [],
      "source": [
        "len(ylist)"
      ]
    },
    {
      "cell_type": "code",
      "execution_count": null,
      "metadata": {
        "id": "K3j46JZRivjh"
      },
      "outputs": [],
      "source": [
        "len(ylist[0])"
      ]
    },
    {
      "cell_type": "code",
      "execution_count": null,
      "metadata": {
        "id": "tfwBbJVGiyoN"
      },
      "outputs": [],
      "source": [
        "# ylist = \"Fear of missing out\".split()\n",
        "avg_len = (len(ylist[0]) + len(ylist[1]) + len(ylist[2]) + len(ylist[3]))/len(ylist)\n",
        "avg_len"
      ]
    },
    {
      "cell_type": "code",
      "execution_count": null,
      "metadata": {
        "id": "_xBIb3vqh8O6"
      },
      "outputs": [],
      "source": [
        "acronym = ylist[0][0] +ylist[1][0] + ylist[2][0] +ylist[3][0]\n",
        "acronym.upper()"
      ]
    },
    {
      "cell_type": "markdown",
      "metadata": {
        "id": "7pOzUlLOYI3k"
      },
      "source": [
        "<font color='red'>Complete the codes in the cell below."
      ]
    },
    {
      "cell_type": "code",
      "execution_count": null,
      "metadata": {
        "id": "SKYS54PsiOHz"
      },
      "outputs": [],
      "source": [
        "# use a for loop to get an acronym for the user-enterred phrase\n",
        "# example: you only live once--YOLO\n",
        "# example: Fear of missing out --FOMO\n",
        "phrase = input(\"Enter a phrase:\")\n",
        "XXX\n",
        "\n",
        "for XXX in XXX:\n",
        "  XXX\n"
      ]
    },
    {
      "cell_type": "markdown",
      "metadata": {
        "id": "j3-H8TDOYRWk"
      },
      "source": [
        "<font color='red'>Complete the codes in the cell below."
      ]
    },
    {
      "cell_type": "code",
      "execution_count": null,
      "metadata": {
        "id": "ro2pLq77jDWC"
      },
      "outputs": [],
      "source": [
        "# use a for loop to get the average word length of the user-enterred phrase\n",
        "# example: you only live once--3.75\n",
        "# example: Fear of missing out --4.0\n",
        "phrase = input(\"Enter a phrase:\")\n",
        "XXX\n",
        "\n",
        "for XXX in XXX:\n",
        "  XXX\n",
        "\n"
      ]
    },
    {
      "cell_type": "markdown",
      "metadata": {
        "id": "jGwnxZ_GX88e"
      },
      "source": [
        "## How to join strings"
      ]
    },
    {
      "cell_type": "markdown",
      "metadata": {
        "id": "QQNdbRz-a540"
      },
      "source": [
        "How to join strings\n",
        "* with the + and += operators\n",
        "* with an f-string\n",
        "* with join() method"
      ]
    },
    {
      "cell_type": "markdown",
      "metadata": {
        "id": "pRz5wNaGYB8y"
      },
      "source": [
        "The **join()** method of a string:\n",
        "\n",
        "![String](images/join_method.png)"
      ]
    },
    {
      "cell_type": "code",
      "execution_count": null,
      "metadata": {
        "id": "WXWnX9rybB94"
      },
      "outputs": [],
      "source": [
        "number = \"5558886666\"\n",
        "\n",
        "# With the + operator\n",
        "new_number = number[0:3] + \".\" + number[3:6] + \".\" + number[6:]\n",
        "print(new_number)"
      ]
    },
    {
      "cell_type": "code",
      "execution_count": null,
      "metadata": {
        "id": "EDEnUB74bpxz"
      },
      "outputs": [],
      "source": [
        "# With the += operator\n",
        "number2 = number[0:3]\n",
        "number2 += \". \"\n",
        "number2 += number[3:]\n",
        "\n",
        "print(number2)"
      ]
    },
    {
      "cell_type": "code",
      "execution_count": null,
      "metadata": {
        "id": "LqbuZhXGbHdY"
      },
      "outputs": [],
      "source": [
        "# With an f-string\n",
        "number3 = f\"{number[0:3]}, {number[3:]}\"\n",
        "number3"
      ]
    },
    {
      "cell_type": "code",
      "execution_count": null,
      "metadata": {
        "id": "uzXeaaS9bH0e"
      },
      "outputs": [],
      "source": [
        "# the join() method of a string\n",
        "\" \".join([\"Number\", \"one,\", \"the\", \"Larch\"])  #concatenate list into a string"
      ]
    },
    {
      "cell_type": "code",
      "execution_count": null,
      "metadata": {
        "id": "dQLrZMjobKgk"
      },
      "outputs": [],
      "source": [
        "\"|\".join([\"Number\", \"one,\", \"the\", \"Larch\"]) # #concatenate list into a string, using SS as separator"
      ]
    },
    {
      "cell_type": "markdown",
      "metadata": {
        "id": "yESUmHg7YNoq"
      },
      "source": [
        "<font color='red'>Complete the codes in the cell below."
      ]
    },
    {
      "cell_type": "markdown",
      "metadata": {
        "id": "0gt4LNa_vPER"
      },
      "source": [
        "**Exercise: Word Counter program**"
      ]
    },
    {
      "cell_type": "code",
      "execution_count": null,
      "metadata": {
        "id": "KgwCv_MeuaTT"
      },
      "outputs": [],
      "source": [
        "lyrics = '''I'm in the room, it's a typical Tuesday night.\n",
        "I'm listening to the kind of music she doesn't like.\n",
        "And she'll never know your story like I do.\n",
        "But she wears short skirts.\n",
        "I wear T-shirts.'''"
      ]
    },
    {
      "cell_type": "code",
      "execution_count": null,
      "metadata": {
        "id": "4Rcwc-U0unJ-"
      },
      "outputs": [],
      "source": [
        "def get_words(text):\n",
        "    text = text.replace(\"\\n\", \"\")\n",
        "    text = text.replace(\",\", \"\")\n",
        "    text = text.replace(\".\", \" \")\n",
        "    text = text.lower()\n",
        "    text = text.strip()\n",
        "\n",
        "    words = text.split(\" \")   # convert str to list\n",
        "    words.sort()\n",
        "    return words"
      ]
    },
    {
      "cell_type": "code",
      "execution_count": null,
      "metadata": {
        "id": "-Gi3TNFSqNCG"
      },
      "outputs": [],
      "source": [
        "len(get_words(lyrics))"
      ]
    },
    {
      "cell_type": "code",
      "execution_count": null,
      "metadata": {
        "id": "hCmyM674vaI7"
      },
      "outputs": [],
      "source": [
        "def get_unique_words(words):\n",
        "    unique_words = []\n",
        "    unique_words.append(words[0])\n",
        "\n",
        "    for i in range(1, len(words)):\n",
        "        if words[i] == words[i - 1]:\n",
        "            continue\n",
        "        else:\n",
        "            unique_words.append(words[i])\n",
        "    return unique_words"
      ]
    },
    {
      "cell_type": "code",
      "execution_count": null,
      "metadata": {
        "id": "eSloUmE5u5wC"
      },
      "outputs": [],
      "source": [
        "words = get_words(lyrics)\n",
        "unique_words = get_unique_words(words)\n",
        "\n",
        "# display number of words and unique words\n",
        "print(f\"Number of words = {len(words)}\")\n",
        "print(f\"Number of unique words = {len(unique_words)}\")"
      ]
    },
    {
      "cell_type": "code",
      "execution_count": null,
      "metadata": {
        "id": "e4Qpp8EXvj5d"
      },
      "outputs": [],
      "source": [
        "# display unique words and their word counts\n",
        "print(\"Unique word occurrences:\")\n",
        "for word in unique_words:\n",
        "  print(f\"    {word} = {words.count(word)}\")"
      ]
    },
    {
      "cell_type": "markdown",
      "metadata": {
        "id": "3Wf3n6oiY_Ue"
      },
      "source": [
        "<font color='red'>Complete the codes in the cell below."
      ]
    },
    {
      "cell_type": "code",
      "execution_count": null,
      "metadata": {
        "colab": {
          "base_uri": "https://localhost:8080/"
        },
        "id": "a37xvtLrv8CP",
        "outputId": "d4db0de1-3882-4868-b71c-bc74378b9f2c"
      },
      "outputs": [
        {
          "name": "stdout",
          "output_type": "stream",
          "text": [
            "First 5 Unique word occurrences:\n",
            "    a = 1\n",
            "    and = 1\n",
            "    but = 1\n",
            "    do = 1\n",
            "    doesn't = 1\n"
          ]
        }
      ],
      "source": [
        "# Please modify to show only first 5 unique word occurrences\n",
        "print(\"First 5 Unique word occurrences:\")\n",
        "for i in range(5):\n",
        "  XXX"
      ]
    },
    {
      "cell_type": "code",
      "execution_count": null,
      "metadata": {
        "id": "yr2NZlrGqf1t"
      },
      "outputs": [],
      "source": [
        "# Please modify to show only first 5 unique word occurrences\n",
        "print(\"First 5 Unique word occurrences:\")\n",
        "sub_words = unique_words[0:5]   # using slicing\n",
        "for word in sub_words:\n",
        "    print (word)"
      ]
    },
    {
      "cell_type": "code",
      "execution_count": null,
      "metadata": {
        "id": "bMxOPDSwvTR7"
      },
      "outputs": [],
      "source": [
        "## define get_sentences (text) function to get the # of sentences\n",
        "## You can assume all the sentences end with a period (.)\n",
        "def get_sentences (text):\n",
        "    sentence = text.split(\".\")\n",
        "\n",
        "    return sentence\n"
      ]
    },
    {
      "cell_type": "code",
      "execution_count": null,
      "metadata": {
        "id": "IgfHeMPn0Lkd"
      },
      "outputs": [],
      "source": [
        "sentences = get_sentences(lyrics)\n",
        "\n",
        "for sen in sentences:\n",
        "  print(sen)\n",
        "  print(\"========\")"
      ]
    },
    {
      "cell_type": "code",
      "execution_count": null,
      "metadata": {
        "id": "o2tkiZtw0QVp"
      },
      "outputs": [],
      "source": [
        "print(f\"Number of sentences = {len(sentences)-1} \")"
      ]
    },
    {
      "cell_type": "code",
      "execution_count": null,
      "metadata": {
        "id": "c2qUm4Cmp7mf"
      },
      "outputs": [],
      "source": [
        "len(get_sentences(lyrics))"
      ]
    },
    {
      "cell_type": "markdown",
      "metadata": {
        "id": "ro1v0hJdHxPa"
      },
      "source": [
        "**Another Example (Lab)**:"
      ]
    },
    {
      "cell_type": "code",
      "execution_count": null,
      "metadata": {
        "id": "4B_AmwECHu7c"
      },
      "outputs": [],
      "source": [
        "def to_pig_latin(word):\n",
        "  ch = word[0]\n",
        "  if (ch == 'a' or\n",
        "    ch == 'e' or\n",
        "    ch == 'i' or\n",
        "    ch == 'o' or\n",
        "    ch == 'u'):\n",
        "    word += \"way\"\n",
        "  else:\n",
        "    if ch == 'y':\n",
        "      word = word[1:]\n",
        "      word += ch\n",
        "      ch = word[0]\n",
        "    while (ch != 'a' and\n",
        "          ch != 'e' and\n",
        "          ch != 'i' and\n",
        "          ch != 'o' and\n",
        "          ch != 'u' and\n",
        "          ch != 'y'):\n",
        "       word = word[1:]\n",
        "       word += ch\n",
        "       ch = word[0]\n",
        "    word += \"ay\"\n",
        "  return word\n"
      ]
    },
    {
      "cell_type": "code",
      "execution_count": null,
      "metadata": {
        "id": "BhG8vmfBIWQ9"
      },
      "outputs": [],
      "source": [
        "latin1 = to_pig_latin('Break')\n",
        "print(latin1)"
      ]
    },
    {
      "cell_type": "markdown",
      "metadata": {
        "id": "LvK2eS0Q2EDv"
      },
      "source": [
        "## How to use format specifications with f-strings"
      ]
    },
    {
      "cell_type": "markdown",
      "metadata": {
        "id": "b5wXwnpG2HtZ"
      },
      "source": [
        "The syntax of an f-string with a format specification\n",
        "\n",
        "```\n",
        "\"f{value:format_specification}\"\n",
        "```\n",
        "The syntax for the format specification:\n",
        "```\n",
        "[field_width][comma][.decimal_places][type_code]\n",
        "```"
      ]
    },
    {
      "cell_type": "markdown",
      "metadata": {
        "id": "jqZfAHMN2JYz"
      },
      "source": [
        "**Common type codes**\n",
        "\n",
        "![](http://drive.google.com/uc?export=view&id=1E-4z0F5O3vNM3XpjoAhBxOJGfT5o9vGw)"
      ]
    },
    {
      "cell_type": "markdown",
      "metadata": {
        "id": "EawVFH8G2Lub"
      },
      "source": [
        "F-strings with format specifications:"
      ]
    },
    {
      "cell_type": "code",
      "execution_count": null,
      "metadata": {
        "id": "AKQQ86wT2N_H"
      },
      "outputs": [],
      "source": [
        "fp_number = 12345.6789\n",
        "print(f\"{fp_number:.2f}\")        # 12345.68\n",
        "print(f\"{fp_number:,.2f}\")       # 12,345.68\n",
        "print(f\"{fp_number:15,.2f}\")     #       12,345.68\n",
        "print(f\"{fp_number:.2e}\")        # 1.23e+04"
      ]
    },
    {
      "cell_type": "code",
      "execution_count": null,
      "metadata": {
        "id": "ZQ5UjrAk2PhV"
      },
      "outputs": [],
      "source": [
        "fp_number = .12345\n",
        "print(f\"{fp_number:.0%}\")        # 12%\n",
        "print(f\"{fp_number:.1%}\")        # 12.3%"
      ]
    },
    {
      "cell_type": "code",
      "execution_count": null,
      "metadata": {
        "id": "lMFZ9GGD2RtM"
      },
      "outputs": [],
      "source": [
        "int_number = 12345\n",
        "print(f\"{int_number:d}\")         # 12345\n",
        "print(f\"{int_number:,d}\")        # 12,345"
      ]
    },
    {
      "cell_type": "markdown",
      "metadata": {
        "id": "PBSkY-y32T1n"
      },
      "source": [
        "How to format a string literal:"
      ]
    },
    {
      "cell_type": "code",
      "execution_count": null,
      "metadata": {
        "id": "WNA2MDmd2TZo"
      },
      "outputs": [],
      "source": [
        "# enclose the literal in single quotes\n",
        "print(f\"{'Description':15}{'Price'}\")"
      ]
    },
    {
      "cell_type": "code",
      "execution_count": null,
      "metadata": {
        "id": "YAKbDncF2XCT"
      },
      "outputs": [],
      "source": [
        "descrip = 'Description'\n",
        "print(f\"{descrip}{'Price':30}\")"
      ]
    },
    {
      "cell_type": "markdown",
      "metadata": {
        "id": "3aN7Yrwh2Ykq"
      },
      "source": [
        "How to use a variable in a format specification:"
      ]
    },
    {
      "cell_type": "code",
      "execution_count": null,
      "metadata": {
        "id": "qrhw7XDJ2aiT"
      },
      "outputs": [],
      "source": [
        "spec = 15\n",
        "# enclose the variable in brackets\n",
        "print(f\"{'Description':{spec}}{'Price'}\")"
      ]
    },
    {
      "cell_type": "markdown",
      "metadata": {
        "id": "bp-gOxJq2ciJ"
      },
      "source": [
        "How to use field widths to align results"
      ]
    },
    {
      "cell_type": "code",
      "execution_count": null,
      "metadata": {
        "id": "pBP33it-2fF3"
      },
      "outputs": [],
      "source": [
        "print(f\"{'Description':15} {'Price':>10} {'Qty':>5}\")\n",
        "print(f\"{'Hammer':15} {9.99:10.2f} {3:5d}\")            # numbers are right-aligned by default\n",
        "print(f\"{'Hammer':15} {9.99:>10.2f} {3:>5d}\")\n",
        "print()\n",
        "print(f\"{'Description':15} {'Price':10} {'Qty':5}\")    # strings are left-aligned by default\n",
        "print(f\"{'Description':15} {'Price':<10} {'Qty':<5}\")\n",
        "print(f\"{'Hammer':15} {9.99:<10.2f} {3:<5d}\")"
      ]
    },
    {
      "cell_type": "markdown",
      "metadata": {
        "id": "g9OIaBvi2gim"
      },
      "source": [
        "* You can use format specifications to format the values in the braces of an f-string.\n",
        "* When you use a field-width specification, numbers are right aligned and strings are left aligned by default. However, you can use the <end> symbols to override that."
      ]
    }
  ],
  "metadata": {
    "colab": {
      "provenance": [],
      "toc_visible": true
    },
    "kernelspec": {
      "display_name": "Python 3",
      "name": "python3"
    },
    "language_info": {
      "name": "python"
    }
  },
  "nbformat": 4,
  "nbformat_minor": 0
}
